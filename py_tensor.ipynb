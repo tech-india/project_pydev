import tensorflow as tf
classifier = tf.estimator.LinearClassifier(feature_columns)
classifier.train(input_fn=train_input_fn, steps=100)
predictions = classifier.predict(input_fn=predict_input_fn)
